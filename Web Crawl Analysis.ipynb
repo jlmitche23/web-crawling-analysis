{
 "cells": [
  {
   "cell_type": "markdown",
   "metadata": {},
   "source": [
    "# Notebook Configurations"
   ]
  },
  {
   "cell_type": "code",
   "execution_count": 1,
   "metadata": {},
   "outputs": [],
   "source": [
    "import sys\n",
    "\n",
    "# configuring path and python version for jupyter\n",
    "sys.executable = '/Users/jacquelinemitchell/opt/anaconda3/envs/openwpm/bin/python3'\n",
    "sys.path = ['', '/Users/jacquelinemitchell/opt/anaconda3/envs/openwpm/lib/python38.zip', '/Users/jacquelinemitchell/opt/anaconda3/envs/openwpm/lib/python3.8', '/Users/jacquelinemitchell/opt/anaconda3/envs/openwpm/lib/python3.8/lib-dynload', '/Users/jacquelinemitchell/opt/anaconda3/envs/openwpm/lib/python3.8/site-packages']"
   ]
  },
  {
   "cell_type": "markdown",
   "metadata": {},
   "source": [
    "# Imports"
   ]
  },
  {
   "cell_type": "code",
   "execution_count": 2,
   "metadata": {},
   "outputs": [],
   "source": [
    "import pandas as pd\n",
    "import tldextract\n",
    "import math\n",
    "import collections\n",
    "import numpy as np\n",
    "import matplotlib.pyplot as plt\n",
    "\n",
    "import sqlite3"
   ]
  },
  {
   "cell_type": "markdown",
   "metadata": {},
   "source": [
    "## Constants"
   ]
  },
  {
   "cell_type": "code",
   "execution_count": 3,
   "metadata": {},
   "outputs": [],
   "source": [
    "HTTP_REQS_Q = \"SELECT visit_id, url from http_requests\"\n",
    "COOKIES_Q = \"SELECT visit_id, host FROM javascript_cookies\"\n",
    "API_CALLS_Q = \"SELECT visit_id, document_url FROM javascript\""
   ]
  },
  {
   "cell_type": "markdown",
   "metadata": {},
   "source": [
    "## Get the Top 100 Sites"
   ]
  },
  {
   "cell_type": "code",
   "execution_count": 4,
   "metadata": {},
   "outputs": [],
   "source": [
    "top_sites = pd.read_csv('~/Downloads/top-1m.csv', nrows=100, header=None)\n",
    "sites = top_sites.loc[:, 1].values"
   ]
  },
  {
   "cell_type": "markdown",
   "metadata": {},
   "source": [
    "## Helper Functions"
   ]
  },
  {
   "cell_type": "code",
   "execution_count": 5,
   "metadata": {},
   "outputs": [],
   "source": [
    "def is_third_party(domain, url):\n",
    "    domain_ext = tldextract.extract(domain)\n",
    "\n",
    "    url_ext = tldextract.extract(url)\n",
    "\n",
    "    # if the url and the domain are the same, then the url is not from a third party\n",
    "    if '.'.join(domain_ext[:]) == '.'.join(url_ext[:]):\n",
    "        return False\n",
    "\n",
    "    return True"
   ]
  },
  {
   "cell_type": "code",
   "execution_count": 6,
   "metadata": {},
   "outputs": [],
   "source": [
    "def query_third_parties(query, c):\n",
    "    \n",
    "    third_parties = []\n",
    "    calling_websites = []\n",
    "    \n",
    "    for row in c.execute(query):\n",
    "        visit_id = row[0] - 1\n",
    "        url = row[1]\n",
    "        \n",
    "        ext = tldextract.extract(url)\n",
    "        url = '.'.join(ext[1:])\n",
    "    \n",
    "        if is_third_party(sites[visit_id], url):\n",
    "            third_parties.append(url)\n",
    "            calling_websites.append(sites[visit_id])\n",
    "    \n",
    "    return third_parties, calling_websites"
   ]
  },
  {
   "cell_type": "code",
   "execution_count": 69,
   "metadata": {},
   "outputs": [],
   "source": [
    "def compare_plot(web_van, web_ab, c1, c2, category):\n",
    "    \n",
    "    # top 100 sites\n",
    "    num_webs_van = list(collections.Counter(web_van).values())\n",
    "    num_webs_ab = list(collections.Counter(web_ab).values())\n",
    "    \n",
    "    webs_van_plot = [0] * 100\n",
    "    webs_van_plot[0:len(num_webs_van)] = num_webs_van.copy()\n",
    "    \n",
    "    webs_ab_plot = [0] * 100\n",
    "    webs_ab_plot[0:len(num_webs_ab)] = num_webs_ab.copy()\n",
    "    \n",
    "    fig, (ax0, ax1) = plt.subplots(1, 2, figsize=(25, 10))\n",
    "    \n",
    "    ax0.hist(webs_van_plot, color=c1, bins='auto', rwidth=0.5, alpha=0.5, log=False)\n",
    "    ax0.set_title('Use of 3rd Party {} in Vanilla Mode'.format(category), fontsize=20)\n",
    "    ax0.set_xlabel('Number of 3rd Party {}'.format(category), fontsize=15)\n",
    "    ax0.set_ylabel('Frequency', fontsize=15)\n",
    "    \n",
    "    ax1.hist(webs_ab_plot, color=c2, bins='auto', rwidth=0.5, alpha=0.5, log=False)\n",
    "    ax1.set_title('Use of 3rd Party {} in Adblock Mode'.format(category), fontsize=20)\n",
    "    ax1.set_xlabel('Number of 3rd Party {}'.format(category), fontsize=15)\n",
    "    ax1.set_ylabel('Frequency', fontsize=15)\n",
    "    \n",
    "    plt.show()"
   ]
  },
  {
   "cell_type": "code",
   "execution_count": 18,
   "metadata": {},
   "outputs": [],
   "source": [
    "def plot(webs, color):\n",
    "    num_webs_van = list(collections.Counter(webs).values())\n",
    "\n",
    "    webs_van_plot = [0] * 100\n",
    "    webs_van_plot[0:len(num_webs_van)] = num_webs_van.copy()\n",
    "    \n",
    "    plt.hist(webs_van_plot, color=color, bins='auto', rwidth=0.5, alpha=0.5, log=False)\n",
    "    plt.show()"
   ]
  },
  {
   "cell_type": "code",
   "execution_count": 8,
   "metadata": {},
   "outputs": [],
   "source": [
    "def get_top_10(tp_domains):\n",
    "    return collections.Counter(tp_domains).most_common(10)"
   ]
  },
  {
   "cell_type": "markdown",
   "metadata": {},
   "source": [
    "## Set Up SQLite DB Connections"
   ]
  },
  {
   "cell_type": "code",
   "execution_count": 10,
   "metadata": {},
   "outputs": [],
   "source": [
    "# vanilla crawl\n",
    "van_conn = sqlite3.connect('/Users/jacquelinemitchell/Documents/MachineLearning/WebCrawler/vanilla_sqlite_results/crawl-data.sqlite')\n",
    "vc = van_conn.cursor()\n",
    "\n",
    "# ad-block crawl\n",
    "ab_conn = sqlite3.connect('/Users/jacquelinemitchell/Documents/MachineLearning/WebCrawler/adblock_sqlite_results/crawl-data.sqlite')\n",
    "ac = ab_conn.cursor()"
   ]
  },
  {
   "cell_type": "markdown",
   "metadata": {},
   "source": [
    "# HTTP Requests"
   ]
  },
  {
   "cell_type": "markdown",
   "metadata": {},
   "source": [
    "### Vanilla"
   ]
  },
  {
   "cell_type": "code",
   "execution_count": 11,
   "metadata": {},
   "outputs": [],
   "source": [
    "tp_https_van, webs_http_van = query_third_parties(HTTP_REQS_Q, vc)"
   ]
  },
  {
   "cell_type": "code",
   "execution_count": 29,
   "metadata": {},
   "outputs": [],
   "source": [
    "t10_tp_https_van = get_top_10(tp_https_van)"
   ]
  },
  {
   "cell_type": "markdown",
   "metadata": {},
   "source": [
    "##### Explanations of the Top 10 Third Party Domains (HTTP Requests, Vanilla):"
   ]
  },
  {
   "cell_type": "markdown",
   "metadata": {},
   "source": [
    "1. ssl-images-amazon.com : address for images on Amazon pages (maybe for amazon ads?)\n",
    "2. doubleclick.net : ad-serving business owned by Google\n",
    "3. alicdn.com : Alibaba\\'s CDN (content delivery network)\n",
    "4. msocdn.com : Microsoft Office\\'s CDN\n",
    "5. google.com : Google Search\n",
    "6. pstatic.net : Owned by Naver (most popular S. Korean browser) - not sure of its purpose\n",
    "7. cloudfront.net : Amazon's CDN\n",
    "8. pinimg.com : Pinterest (most likely image content related, from what I could gather)\n",
    "9. googlesyndication.com : Adsense advertisement network; displays Google ads on pages that contain them\n",
    "10. awsstatic.com : Owned by Amazon Web Services; static site hosting?"
   ]
  },
  {
   "cell_type": "markdown",
   "metadata": {},
   "source": [
    "### Ad-Block"
   ]
  },
  {
   "cell_type": "code",
   "execution_count": 20,
   "metadata": {},
   "outputs": [],
   "source": [
    "tp_https_ab, webs_http_ab = query_third_parties(HTTP_REQS_Q, ac)"
   ]
  },
  {
   "cell_type": "code",
   "execution_count": 31,
   "metadata": {
    "scrolled": true
   },
   "outputs": [],
   "source": [
    "t10_tp_https_ab = get_top_10(tp_https_ab)"
   ]
  },
  {
   "cell_type": "markdown",
   "metadata": {},
   "source": [
    "##### Explanations of the Top 10 Third Party Domains (HTTP Requests, Adblock):"
   ]
  },
  {
   "cell_type": "markdown",
   "metadata": {},
   "source": [
    "1. ssl-images-amazon.com : address for images on Amazon pages (maybe for amazon ads?)\n",
    "2. msocdn.com : Microsoft Office\\'s CDN (Content delivery network)\n",
    "3. pstatic.net : Owned by Naver (most popular S. Korean browser) - not sure of its purpose\n",
    "4. cloudfront.net : Amazon's CDN\n",
    "5. pinimg.com : Pinterest (most likely image content related, from what I could gather)\n",
    "6. sinaimg.cn : Seems to be related to Sina Corp. (Chinese tech company), directs a lot of traffic to Sina's website\n",
    "7. qhimg.com : Not sure entirely what it does, but upon some digging, it seems to work with AWS and Amazon Cloudfront (source: https://webtechsurvey.com/website/s0.qhimg.com/technologies)\n",
    "8. awsstatic.com : Owned by Amazon Web Services; static site hosting?\n",
    "9. csdnimg.cn : Seems to be related to TaoBao (Chinese shopping website)\n",
    "10. twimg.com : Twitter's image-hosting domain"
   ]
  },
  {
   "cell_type": "markdown",
   "metadata": {},
   "source": [
    "### Compare Plots"
   ]
  },
  {
   "cell_type": "code",
   "execution_count": 75,
   "metadata": {},
   "outputs": [
    {
     "data": {
      "image/png": "[encoded data removed]",
      "text/plain": [
       "<Figure size 1800x720 with 2 Axes>"
      ]
     },
     "metadata": {
      "needs_background": "light"
     },
     "output_type": "display_data"
    }
   ],
   "source": [
    "compare_plot(web_van=webs_http_van, web_ab=webs_http_ab, c1='purple', c2='teal', category='HTTP Requests')"
   ]
  },
  {
   "cell_type": "markdown",
   "metadata": {},
   "source": [
    "### Analysis of the Plots"
   ]
  },
  {
   "cell_type": "markdown",
   "metadata": {},
   "source": [
    "- In the ad-blocking plot (teal) there is a consistent decline in the frequency of large numbers of 3rd party HTTP requests. In the vanilla plot (purple), there is a noted uptick in frequency when looking at value of around 250 3rd party HTTP requests.  \n",
    "- The vanilla plot had much more top-100 sites that made many 3rd party HTTP requests than the adblock plot (especially looking in the 150-300 range on both plots).  \n",
    "- In the vanilla plot, there are top 100 sites that made more than 400 3rd party HTTP requests, but in the adblock plot, there are no top-100 sites that did this.  In fact, the largest number of third party HTTP request by a top-100 site did not break 300 requests."
   ]
  },
  {
   "cell_type": "markdown",
   "metadata": {},
   "source": [
    "# Cookies"
   ]
  },
  {
   "cell_type": "markdown",
   "metadata": {},
   "source": [
    "### Vanilla"
   ]
  },
  {
   "cell_type": "code",
   "execution_count": 33,
   "metadata": {},
   "outputs": [],
   "source": [
    "tp_cookies_van, webs_cookies_van = query_third_parties(COOKIES_Q, vc)"
   ]
  },
  {
   "cell_type": "code",
   "execution_count": 35,
   "metadata": {},
   "outputs": [],
   "source": [
    "t10_tp_cookies_van = get_top_10(tp_cookies_van)"
   ]
  },
  {
   "cell_type": "markdown",
   "metadata": {},
   "source": [
    "##### Explanations of the Top 10 Third Party Domains (Cookies, Vanilla):"
   ]
  },
  {
   "cell_type": "markdown",
   "metadata": {},
   "source": [
    "1. demdex.net : Owned by adobe; captures/stores behavioral data on behalf of websites/advertisers\n",
    "2. yahoo.com : Search engine, but not sure quite what the purpose is here... Advertising?\n",
    "3. pubmatic.com : programmatic advertising\n",
    "4. doubleclick.net : Google-owned; adserving platform\n",
    "5. rubiconproject.com : automated buying/selling of advertising; owns one of largest real-time cloud & big data computing systems\n",
    "6. casalemedia.com : uses cookies to track whether a user has seen an ad or not\n",
    "7. amazon.com : maybe related to AWS/advertisements?\n",
    "8. adsrvr.org : ad serving platform\n",
    "9. rlcdn.com : sends web beacons (usually invisibly checking that a user has accessed certain content); provides data about email addresses and users behind them; targeted marketing and profiling\n",
    "10. amazon-adsystem.com : online ads on the Amazon network; used to drive traffic/boost sales"
   ]
  },
  {
   "cell_type": "markdown",
   "metadata": {},
   "source": [
    "### Ad-Block"
   ]
  },
  {
   "cell_type": "code",
   "execution_count": 42,
   "metadata": {},
   "outputs": [],
   "source": [
    "tp_cookies_ab, webs_cookies_ab = query_third_parties(COOKIES_Q, ac)"
   ]
  },
  {
   "cell_type": "code",
   "execution_count": 43,
   "metadata": {},
   "outputs": [],
   "source": [
    "t10_tp_cookies_ab = get_top_10(tp_cookies_ab)"
   ]
  },
  {
   "cell_type": "markdown",
   "metadata": {},
   "source": [
    "##### Explanations of the Top 10 Third Party Domains (Cookies, Ad-Block):"
   ]
  },
  {
   "cell_type": "markdown",
   "metadata": {},
   "source": [
    "1. amazon.com : maybe related to AWS?\n",
    "2. taboola.com : content discover and native advertising\n",
    "3. youtube.com : load YouTube media content? (load youtube ads?) (Youtube has an api for ads and third party content serving)\n",
    "4. sina.cn : Chinese tech company\n",
    "5. microsoft.com : Microsoft has various services for websites\n",
    "6. aliexpress.ru : online retail service owned by Alibaba\n",
    "7. tmall.ru : website for business to consumer online retail, owned by Alibaba\n",
    "8. google.com : google search / google APIs?\n",
    "9. live.com : url used by Microsoft for OneDrive and Outlook services\n",
    "10. bing.com : bing search engine"
   ]
  },
  {
   "cell_type": "markdown",
   "metadata": {},
   "source": [
    "### Compare Plots"
   ]
  },
  {
   "cell_type": "code",
   "execution_count": 71,
   "metadata": {},
   "outputs": [
    {
     "data": {
      "image/png": "[encoded data removed]",
      "text/plain": [
       "<Figure size 1800x720 with 2 Axes>"
      ]
     },
     "metadata": {
      "needs_background": "light"
     },
     "output_type": "display_data"
    }
   ],
   "source": [
    "compare_plot(web_van=webs_cookies_van, web_ab=webs_cookies_ab, c1='green', c2='orange', category='Cookies')"
   ]
  },
  {
   "cell_type": "markdown",
   "metadata": {},
   "source": [
    "### Analysis of the Plots"
   ]
  },
  {
   "cell_type": "markdown",
   "metadata": {},
   "source": [
    "- The vanilla plot (green) had a much larger right tail in its distribution.  There were many more large numbers of 3rd party cookies stored compared to the adblock plot (orange).  The largest amount of 3rd party cookies stored exceeded 400 on the vanilla plot, but on the adblocking plot the largest number of 3rd party cookies stored did not exceed 100\n",
    "- In the adblock mode, the majority of the distribution is concentrated in a relatively small number of 3rd cookies (compared to the vanilla plot), below 20 3rd party cookies."
   ]
  },
  {
   "cell_type": "markdown",
   "metadata": {},
   "source": [
    "# JS API Calls"
   ]
  },
  {
   "cell_type": "markdown",
   "metadata": {},
   "source": [
    "### Vanilla"
   ]
  },
  {
   "cell_type": "code",
   "execution_count": 45,
   "metadata": {},
   "outputs": [],
   "source": [
    "tp_api_calls_van, webs_api_calls_van = query_third_parties(API_CALLS_Q, vc)"
   ]
  },
  {
   "cell_type": "code",
   "execution_count": 50,
   "metadata": {},
   "outputs": [],
   "source": [
    "t10_tp_api_calls_van = get_top_10(tp_api_calls_van)"
   ]
  },
  {
   "cell_type": "markdown",
   "metadata": {},
   "source": [
    "##### Explanations of the Top 10 Third Party Domains (API Calls, Vanilla):"
   ]
  },
  {
   "cell_type": "markdown",
   "metadata": {},
   "source": [
    "1. 2mdn.net : used to deliver doubleclick ads\n",
    "2. google.com : google search/ads?\n",
    "3. youtube.com : Youtube has an api for ads and third party content serving / load YouTube ads?\n",
    "4. microsoft.com : Microsoft ad services / Azure?\n",
    "5. amazon.com : amazon ads / AWS\n",
    "6. baidu.com : the dominant Chinese search engine\n",
    "7. alicdn.com : Alibaba's CDN (content delivery network)\n",
    "8. rubiconproject.com : automated buying/selling of advertising; owns one of largest real-time cloud & big data computing systems\n",
    "9. doubleclick.net : ad-serving business owned by Google\n",
    "10. bbc.com : public service broadcaster"
   ]
  },
  {
   "cell_type": "markdown",
   "metadata": {},
   "source": [
    "### Ad-Block"
   ]
  },
  {
   "cell_type": "code",
   "execution_count": 54,
   "metadata": {},
   "outputs": [],
   "source": [
    "tp_api_calls_ab, webs_api_calls_ab = query_third_parties(API_CALLS_Q, ac)"
   ]
  },
  {
   "cell_type": "code",
   "execution_count": 56,
   "metadata": {},
   "outputs": [],
   "source": [
    "t10_tp_api_calls_ab = get_top_10(tp_api_calls_ab)"
   ]
  },
  {
   "cell_type": "markdown",
   "metadata": {},
   "source": [
    "##### Explanations of the Top 10 Third Party Domains (API Calls,  Ad-Block):"
   ]
  },
  {
   "cell_type": "markdown",
   "metadata": {},
   "source": [
    "1. youtube.com : load YouTube media (i.e. videos, perhaps ads?)\n",
    "2. amazon.com : AWS, load e-commerce data\n",
    "3. microsoft.com : Micrsoft has many web APIs for different purposes\n",
    "4. google.com : Google search / Google developer tools (Google has site APIs too)\n",
    "5. facebook.com : social media\n",
    "6. csdnimg.cn : Seems to be related to TaoBao (Chinese shopping website)\n",
    "7. qualaroo.com : user research and customer feedback\n",
    "8. googleblog.com : blog publisher owned by Google\n",
    "9. streamable.com : video streaming services for bloggers and publishers\n",
    "10. bitly.com : url-shortnening platform"
   ]
  },
  {
   "cell_type": "markdown",
   "metadata": {},
   "source": [
    "### Compare Plots"
   ]
  },
  {
   "cell_type": "code",
   "execution_count": 72,
   "metadata": {},
   "outputs": [
    {
     "data": {
      "image/png": "[encoded data removed]",
      "text/plain": [
       "<Figure size 1800x720 with 2 Axes>"
      ]
     },
     "metadata": {
      "needs_background": "light"
     },
     "output_type": "display_data"
    }
   ],
   "source": [
    "compare_plot(web_van=webs_api_calls_van, web_ab=webs_api_calls_ab, c1='red', c2='blue', category='API Calls')"
   ]
  },
  {
   "cell_type": "markdown",
   "metadata": {},
   "source": [
    "### Analysis of the Plots"
   ]
  },
  {
   "cell_type": "markdown",
   "metadata": {},
   "source": [
    "- The difference between the vanilla plot (red) and the adblock plot (blue) are stark here.  The vanilla plot had many more 3rd party API calls than the adblock plot. Looking at the frequencies, the vanilla plot had many more top-100 websites that made any number of 3rd party API calls than the adblock plot.\n",
    "- The range of the number of 3rd party API calls any top-100 site made is much more vast on the vanilla plot, with the concentrated area of the vanilla plot convering the entire horizontal range of the adblock block."
   ]
  }
 ],
 "metadata": {
  "kernelspec": {
   "display_name": ".openwpm",
   "language": "python",
   "name": ".openwpm"
  },
  "language_info": {
   "codemirror_mode": {
    "name": "ipython",
    "version": 3
   },
   "file_extension": ".py",
   "mimetype": "text/x-python",
   "name": "python",
   "nbconvert_exporter": "python",
   "pygments_lexer": "ipython3",
   "version": "3.8.5"
  }
 },
 "nbformat": 4,
 "nbformat_minor": 4
}
